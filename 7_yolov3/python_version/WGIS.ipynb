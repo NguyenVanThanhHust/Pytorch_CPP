{
 "cells": [
  {
   "cell_type": "code",
   "execution_count": 52,
   "id": "1874867d",
   "metadata": {},
   "outputs": [],
   "source": [
    "import os\n",
    "import numpy as np\n",
    "from PIL import Image\n",
    "from os.path import join, isdir, isfile\n",
    "import cv2 \n",
    "\n",
    "import torch\n",
    "from torch.utils.data import Dataset, DataLoader\n"
   ]
  },
  {
   "cell_type": "code",
   "execution_count": 2,
   "id": "e5721600",
   "metadata": {},
   "outputs": [],
   "source": [
    "varietals = ['CDY', 'CFR', 'CSV', 'SVB', 'SYH']"
   ]
  },
  {
   "cell_type": "code",
   "execution_count": 41,
   "id": "7d724be6",
   "metadata": {},
   "outputs": [
    {
     "name": "stdout",
     "output_type": "stream",
     "text": [
      "True\n"
     ]
    }
   ],
   "source": [
    "DATA_FOLDER = \"../../../wgisd/data\"\n",
    "print(isdir(DATA_FOLDER))\n",
    "IM_NORM_MEAN = [0.485, 0.456, 0.406]\n",
    "IM_NORM_STD = [0.229, 0.224, 0.225]"
   ]
  },
  {
   "cell_type": "code",
   "execution_count": 10,
   "id": "f633a548",
   "metadata": {},
   "outputs": [],
   "source": [
    "instances = {v: [] for v in varietals}\n",
    "all_files = next(os.walk(DATA_FOLDER))[2]\n",
    "label_files = [f for f in all_files if f.endswith(\".txt\")]\n",
    "image_files = [f for f in all_files if f.endswith(\".jpg\")]\n",
    "mask_files = [f for f in all_files if f.endswith(\".npz\")]\n",
    "filenames = [f[:-4] for f in label_files]\n",
    "\n",
    "for filename in filenames:\n",
    "    for v in varietals:\n",
    "        if filename.startswith(v):\n",
    "            instances[v].append(filename)          \n",
    "    "
   ]
  },
  {
   "cell_type": "code",
   "execution_count": 11,
   "id": "2c087280",
   "metadata": {},
   "outputs": [
    {
     "name": "stdout",
     "output_type": "stream",
     "text": [
      "{'CDY': 65, 'CFR': 65, 'CSV': 57, 'SVB': 65, 'SYH': 48}\n"
     ]
    }
   ],
   "source": [
    "n_images = {k: len(v) for (k,v) in instances.items()}\n",
    "print(n_images)"
   ]
  },
  {
   "cell_type": "code",
   "execution_count": 12,
   "id": "02ea536a",
   "metadata": {},
   "outputs": [
    {
     "name": "stdout",
     "output_type": "stream",
     "text": [
      "300 300 137\n"
     ]
    }
   ],
   "source": [
    "print(len(image_files), len(label_files), len(mask_files))"
   ]
  },
  {
   "cell_type": "code",
   "execution_count": 77,
   "id": "d21c718f",
   "metadata": {},
   "outputs": [],
   "source": [
    "class WGISDMaskedDataset(Dataset):\n",
    "    def __init__(self, root, transform=None, split=\"train\"):\n",
    "        self.root = root\n",
    "        self.transform = transform\n",
    "        assert split in [\"train\", \"test\"], \"split must be train or test, get {}\".format(split)\n",
    "        \n",
    "#         with open(join(self.root, split+\"_masked.txt\"), \"r\") as handle:\n",
    "        with open(join(self.root, split+\".txt\"), \"r\") as handle:\n",
    "            lines = handle.readlines()\n",
    "            lines = [l.rstrip() for l in lines]\n",
    "        \n",
    "        self.img_paths = [join(self.root, \"data\", line+\".jpg\") for line in lines]\n",
    "        self.label_paths = [join(self.root, \"data\", line+\".txt\") for line in lines]\n",
    "        self.mask_paths = [join(self.root, \"data\", line+\".npy\") for line in lines]\n",
    "        \n",
    "    def __len__(self, ):\n",
    "        return len(self.img_paths)\n",
    "    \n",
    "    def __getitem__(self, idx):\n",
    "        img_path = self.img_paths[i]\n",
    "        mask_path = self.mask_paths[i]\n",
    "        label_path = self.label_paths[i]\n",
    "         \n",
    "        img = Image.open(img_path).convert(\"RGB\")\n",
    "        img = np.array(img) \n",
    "        \n",
    "        with open(label_path, \"r\") as handle:\n",
    "            lines = handle.readlines()\n",
    "            lines = [l.rstrip() for l in lines]\n",
    "        labels = []\n",
    "        boxes = []\n",
    "        for l in lines:\n",
    "            cls, cen_x, cen_y, w, h = l.split()\n",
    "            cls, cen_x, cen_y = int(cls), float(cen_x), float(cen_y)\n",
    "            w, h = float(w), float(h)\n",
    "            labels.append(cls+1)\n",
    "            boxes.append([cen_x, cen_y, w, h])\n",
    "        labels = np.array(labels)\n",
    "        boxes = np.array(boxes, dtype=np.float32)\n",
    "        if self.transform is not None:\n",
    "            img, boxes = self.transform(img, boxes)\n",
    "        return img, torch.from_numpy(labels), boxes\n",
    "        "
   ]
  },
  {
   "cell_type": "code",
   "execution_count": 78,
   "id": "149fc868",
   "metadata": {},
   "outputs": [],
   "source": [
    "import torchvision.transforms as transforms\n",
    "\n",
    "class Compose(object):\n",
    "    def __init__(self, transforms):\n",
    "        self.transforms = transforms\n",
    "\n",
    "    def __call__(self, img, bboxes):\n",
    "        for t in self.transforms:\n",
    "            img, bboxes = t(img), bboxes\n",
    "\n",
    "        return img, bboxes\n",
    "    \n",
    "# base_transform = Compose([transforms.Resize((448, 448)), transforms.ToTensor(), transforms.Normalize()])\n",
    "base_transform = Compose([transforms.ToTensor(), transforms.Normalize(mean=IM_NORM_MEAN, std=IM_NORM_STD)])\n",
    "base_transform = Compose([transforms.ToTensor()])\n"
   ]
  },
  {
   "cell_type": "code",
   "execution_count": 79,
   "id": "3456adc5",
   "metadata": {},
   "outputs": [],
   "source": [
    "# data = WGISDMaskedDataset(root=\"../../../wgisd\", transform=base_transform)\n",
    "data = WGISDMaskedDataset(root=\"../../../wgisd\", )\n",
    "for i in range(1):\n",
    "    item = data.__getitem__(i)\n",
    "    "
   ]
  },
  {
   "cell_type": "code",
   "execution_count": 80,
   "id": "814eaf71",
   "metadata": {},
   "outputs": [],
   "source": [
    "img, labels, boxes = item\n",
    "sizes = (2048, 1365)"
   ]
  },
  {
   "cell_type": "code",
   "execution_count": 87,
   "id": "a4b638c9",
   "metadata": {},
   "outputs": [
    {
     "data": {
      "text/plain": [
       "True"
      ]
     },
     "execution_count": 87,
     "metadata": {},
     "output_type": "execute_result"
    }
   ],
   "source": [
    "draw_img = img.copy()\n",
    "for idx, box in enumerate(boxes):\n",
    "    cx, cy, w, h = box\n",
    "    start_point = int((cx-w/2)*sizes[0]), int((cy-h/2)*sizes[1]) \n",
    "    end_point = int((cx+w/2)*sizes[0]), int((cy+h/2)*sizes[1]) \n",
    "    draw_img = cv2.rectangle(draw_img, start_point, end_point, (255, 0, 0), 2)\n",
    "cv2.imwrite(\"sample.jpg\", draw_img)"
   ]
  },
  {
   "cell_type": "code",
   "execution_count": 82,
   "id": "54d865e2",
   "metadata": {},
   "outputs": [
    {
     "data": {
      "text/plain": [
       "array([17, 21,  6], dtype=uint8)"
      ]
     },
     "execution_count": 82,
     "metadata": {},
     "output_type": "execute_result"
    }
   ],
   "source": [
    "img[0][0]"
   ]
  },
  {
   "cell_type": "code",
   "execution_count": 45,
   "id": "d5be81da",
   "metadata": {},
   "outputs": [],
   "source": [
    "from matplotlib import pyplot as plt\n",
    "from matplotlib import patches\n",
    "from matplotlib.patches import Polygon\n",
    "\n",
    "from skimage.color import label2rgb\n",
    "\n",
    "import colorsys\n",
    "import random"
   ]
  }
 ],
 "metadata": {
  "kernelspec": {
   "display_name": "Python 3 (ipykernel)",
   "language": "python",
   "name": "python3"
  },
  "language_info": {
   "codemirror_mode": {
    "name": "ipython",
    "version": 3
   },
   "file_extension": ".py",
   "mimetype": "text/x-python",
   "name": "python",
   "nbconvert_exporter": "python",
   "pygments_lexer": "ipython3",
   "version": "3.7.10"
  }
 },
 "nbformat": 4,
 "nbformat_minor": 5
}
